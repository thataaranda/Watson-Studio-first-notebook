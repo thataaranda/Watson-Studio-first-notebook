{
    "cells": [
        {
            "metadata": {
                "collapsed": true
            },
            "cell_type": "markdown",
            "source": "# My Jupyter Notebook on IBM Watson Studio"
        },
        {
            "metadata": {},
            "cell_type": "markdown",
            "source": "__Thalita Aranda__  \nI work actually with relational database and Pl Sql, creating stored procedures and oracle connections."
        },
        {
            "metadata": {},
            "cell_type": "markdown",
            "source": "_I learned data science at the university and I loved, so I started learning about it by myself and now Im trying to improve my knowledge_"
        },
        {
            "metadata": {},
            "cell_type": "markdown",
            "source": "### In the next cell I will make a code that adds 1 plus 1"
        },
        {
            "metadata": {},
            "cell_type": "code",
            "source": "1+1",
            "execution_count": 11,
            "outputs": [
                {
                    "output_type": "execute_result",
                    "execution_count": 11,
                    "data": {
                        "text/plain": "2"
                    },
                    "metadata": {}
                }
            ]
        },
        {
            "metadata": {},
            "cell_type": "markdown",
            "source": "### 1. Hyperlink\n<a href=\"https://www.ibm.com/\">IBM page</a>  \n\n### 2. Bulleted list\n\nList:\n   * Hello world 1\n   * Hello world 2\n   * Hello world 3\n     \n### 3. Numbered list\n\n   1. Hello world 1\n   2. Hello world 2\n   3. Hello world 3\n\n     \n### 4. Table\n| Title 1 | Title 2 | Title 3 |\n| :- | :- | :- |\n| Data 1 | Data 2 | Data 3 |\n| Data 4 | Data 5 | Data 6 |\n\n### 5. Image  \n<img src=https://static.wixstatic.com/media/2a5e68_e40563105d10405d860348ba573ae79c~mv2.png width=\"500\" height=\"200\" align=\"left\">  \n\n"
        },
        {
            "metadata": {},
            "cell_type": "code",
            "source": "",
            "execution_count": null,
            "outputs": []
        }
    ],
    "metadata": {
        "kernelspec": {
            "name": "python3",
            "display_name": "Python 3.6",
            "language": "python"
        },
        "language_info": {
            "name": "python",
            "version": "3.6.9",
            "mimetype": "text/x-python",
            "codemirror_mode": {
                "name": "ipython",
                "version": 3
            },
            "pygments_lexer": "ipython3",
            "nbconvert_exporter": "python",
            "file_extension": ".py"
        }
    },
    "nbformat": 4,
    "nbformat_minor": 1
}